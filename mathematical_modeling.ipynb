{
 "cells": [
  {
   "cell_type": "code",
   "execution_count": 37,
   "metadata": {},
   "outputs": [],
   "source": [
    "import numpy as np\n",
    "import matplotlib.pyplot as plt\n",
    "import scipy.stats as stats"
   ]
  },
  {
   "cell_type": "code",
   "execution_count": 38,
   "metadata": {},
   "outputs": [],
   "source": [
    "skills = {1:{'p':0.1, 'v':240}, \n",
    "          2:{'p':0.2, 'v':120}, \n",
    "          3:{'p':0.3, 'v':80}, \n",
    "          4:{'p':0.4, 'v':60}, \n",
    "          5:{'p':0.5, 'v':48},\n",
    "          6:{'p':0.6, 'v':40}}"
   ]
  },
  {
   "cell_type": "code",
   "execution_count": 39,
   "metadata": {},
   "outputs": [
    {
     "name": "stdout",
     "output_type": "stream",
     "text": [
      "expected number of unskilled persons in a sample of 100 is 6.048000000000001\n"
     ]
    }
   ],
   "source": [
    "expected_unskilled = 1\n",
    "for key in skills:\n",
    "    expected_unskilled *= (1-skills[key]['p'])\n",
    "print(\"expected number of unskilled persons in a sample of 100 is\", 100*expected_unskilled)"
   ]
  },
  {
   "cell_type": "code",
   "execution_count": 40,
   "metadata": {},
   "outputs": [],
   "source": [
    "from itertools import chain, combinations\n",
    "\n",
    "def powerset(iterable):\n",
    "    s = list(iterable)\n",
    "    return chain.from_iterable(combinations(s, r) for r in range(len(s)+1))"
   ]
  },
  {
   "cell_type": "markdown",
   "metadata": {},
   "source": [
    "### Value distribution"
   ]
  },
  {
   "cell_type": "code",
   "execution_count": 41,
   "metadata": {},
   "outputs": [
    {
     "name": "stdout",
     "output_type": "stream",
     "text": [
      "mean:144.00000000000009, sd: 103.22790320451138\n"
     ]
    },
    {
     "data": {
      "image/png": "[encoded data removed]",
      "text/plain": [
       "<Figure size 432x288 with 1 Axes>"
      ]
     },
     "metadata": {
      "needs_background": "light"
     },
     "output_type": "display_data"
    }
   ],
   "source": [
    "mean = 0\n",
    "m2 = 0\n",
    "\n",
    "skill_combinations = list(powerset([key for key in skills]))\n",
    "\n",
    "skill_value_distribution = {}\n",
    "    \n",
    "for skill_comb in skill_combinations:\n",
    "    value = 0\n",
    "    prob = 1\n",
    "    for key in skill_comb:\n",
    "        value += skills[key]['v']\n",
    "        prob *= skills[key]['p']\n",
    "        \n",
    "    for key in list(set([key for key in skills])-set(skill_comb)):\n",
    "        prob *= (1-skills[key]['p'])\n",
    "\n",
    "    if value in skill_value_distribution.keys():\n",
    "        skill_value_distribution[value] += prob\n",
    "    else:\n",
    "        skill_value_distribution[value] = prob\n",
    "\n",
    "for skill_value in skill_value_distribution:\n",
    "    mean += skill_value_distribution[skill_value] * skill_value\n",
    "    m2 += skill_value_distribution[skill_value] * skill_value**2\n",
    "    \n",
    "#print(\"sanity check: \", sum(skill_value_distribution.values()))\n",
    "\n",
    "sd = np.sqrt(m2 - mean**2)\n",
    "print(f\"mean:{mean}, sd: {sd}\")\n",
    "\n",
    "x = np.linspace(0, mean + 3*sd, 100)\n",
    "plt.plot(x, stats.norm.pdf(x, mean, sd))\n",
    "plt.show()"
   ]
  },
  {
   "cell_type": "markdown",
   "metadata": {},
   "source": [
    "### Required initial income distribution"
   ]
  },
  {
   "cell_type": "code",
   "execution_count": 31,
   "metadata": {},
   "outputs": [],
   "source": [
    "def distribute(distribution_function):\n",
    "    n = 1000000\n",
    "    k = 1000\n",
    "    values = np.zeros(n)\n",
    "    for i in range(n):\n",
    "        values[i] = distribution_function()\n",
    "    max_value = max(values)\n",
    "    min_value = min(values)\n",
    "    bin_size = (max_value - min_value)/k\n",
    "    distribution = np.zeros(k+1)\n",
    "    for value in values:\n",
    "        distribution[int(value/bin_size)] += 1\n",
    "    return distribution"
   ]
  },
  {
   "cell_type": "code",
   "execution_count": 79,
   "metadata": {},
   "outputs": [],
   "source": [
    "def income_distribution():\n",
    "    return min(max(0,np.random.randn()*1.65+4.15), 17)"
   ]
  },
  {
   "cell_type": "code",
   "execution_count": 80,
   "metadata": {},
   "outputs": [
    {
     "data": {
      "text/plain": [
       "[<matplotlib.lines.Line2D at 0x11c9dd9e8>]"
      ]
     },
     "execution_count": 80,
     "metadata": {},
     "output_type": "execute_result"
    },
    {
     "data": {
      "image/png": "[encoded data removed]",
      "text/plain": [
       "<Figure size 432x288 with 1 Axes>"
      ]
     },
     "metadata": {
      "needs_background": "light"
     },
     "output_type": "display_data"
    }
   ],
   "source": [
    "distribution = distribute(income_distribution)\n",
    "plt.plot(distribution)"
   ]
  },
  {
   "cell_type": "markdown",
   "metadata": {},
   "source": [
    "### Payroll from capital"
   ]
  },
  {
   "cell_type": "code",
   "execution_count": 6,
   "metadata": {},
   "outputs": [],
   "source": [
    "#Required payroll\n",
    "\n",
    "#mean = $50,000/12 ≈ $4,150, sd = $20,000/12 ≈ $1,650"
   ]
  },
  {
   "cell_type": "code",
   "execution_count": 84,
   "metadata": {},
   "outputs": [],
   "source": [
    "def marginal_contribution_of_employee(capital, v):\n",
    "    return (np.sqrt(capital**2+v) - capital)"
   ]
  },
  {
   "cell_type": "code",
   "execution_count": 85,
   "metadata": {},
   "outputs": [
    {
     "data": {
      "text/plain": [
       "0.04577174346718493"
      ]
     },
     "execution_count": 85,
     "metadata": {},
     "output_type": "execute_result"
    }
   ],
   "source": [
    "marginal_contribution_of_employee(1573,144)"
   ]
  },
  {
   "cell_type": "code",
   "execution_count": 86,
   "metadata": {},
   "outputs": [
    {
     "data": {
      "text/plain": [
       "90.6672913382741"
      ]
     },
     "execution_count": 86,
     "metadata": {},
     "output_type": "execute_result"
    }
   ],
   "source": [
    "4.15/0.04577174346718493"
   ]
  },
  {
   "cell_type": "markdown",
   "metadata": {},
   "source": [
    "### Redundant"
   ]
  },
  {
   "cell_type": "code",
   "execution_count": 80,
   "metadata": {},
   "outputs": [],
   "source": [
    "def distribute(values):\n",
    "    k = 1000\n",
    "    values = np.array(values)\n",
    "    max_value = max(values)\n",
    "    min_value = min(values)\n",
    "    bin_size = (max_value - min_value)/k\n",
    "    distribution = np.zeros(int(k*max_value/(max_value-min_value))+1)\n",
    "    for value in values:\n",
    "        distribution[int(value/bin_size)] += 1\n",
    "    return distribution"
   ]
  },
  {
   "cell_type": "code",
   "execution_count": 87,
   "metadata": {},
   "outputs": [],
   "source": [
    "#plt.hist(distribute(wealth)[:100])\n",
    "#plt.savefig(f\"tax={income_tax_rate}.jpg\")\n",
    "#plt.show()"
   ]
  },
  {
   "cell_type": "markdown",
   "metadata": {},
   "source": [
    "### Test"
   ]
  },
  {
   "cell_type": "code",
   "execution_count": 88,
   "metadata": {},
   "outputs": [
    {
     "data": {
      "text/plain": [
       "array([0.1   , 0.1125, 0.125 , 0.1375, 0.15  , 0.1625, 0.175 , 0.1875,\n",
       "       0.2   , 0.2125, 0.225 , 0.2375, 0.25  , 0.2625, 0.275 , 0.2875,\n",
       "       0.3   , 0.3125, 0.325 , 0.3375, 0.35  , 0.3625, 0.375 , 0.3875,\n",
       "       0.4   , 0.4125, 0.425 , 0.4375, 0.45  , 0.4625, 0.475 , 0.4875,\n",
       "       0.5   , 0.5125, 0.525 , 0.5375, 0.55  , 0.5625, 0.575 , 0.5875])"
      ]
     },
     "execution_count": 88,
     "metadata": {},
     "output_type": "execute_result"
    }
   ],
   "source": [
    "np.arange(40)/80+0.1"
   ]
  },
  {
   "cell_type": "code",
   "execution_count": null,
   "metadata": {},
   "outputs": [],
   "source": []
  }
 ],
 "metadata": {
  "kernelspec": {
   "display_name": "Python 3",
   "language": "python",
   "name": "python3"
  },
  "language_info": {
   "codemirror_mode": {
    "name": "ipython",
    "version": 3
   },
   "file_extension": ".py",
   "mimetype": "text/x-python",
   "name": "python",
   "nbconvert_exporter": "python",
   "pygments_lexer": "ipython3",
   "version": "3.6.3"
  }
 },
 "nbformat": 4,
 "nbformat_minor": 2
}
