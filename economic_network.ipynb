{
 "cells": [
  {
   "cell_type": "code",
   "execution_count": 1,
   "metadata": {},
   "outputs": [],
   "source": [
    "import networkx as nx\n",
    "import plotly.graph_objects as go\n",
    "import matplotlib.pyplot as plt\n",
    "import numpy as np"
   ]
  },
  {
   "cell_type": "markdown",
   "metadata": {},
   "source": [
    "### Initial conditions"
   ]
  },
  {
   "cell_type": "code",
   "execution_count": 2,
   "metadata": {},
   "outputs": [],
   "source": [
    "skills = {1:{'p':0.1, 'v':240}, \n",
    "          2:{'p':0.2, 'v':120}, \n",
    "          3:{'p':0.3, 'v':80}, \n",
    "          4:{'p':0.4, 'v':60}, \n",
    "          5:{'p':0.5, 'v':48},\n",
    "          6:{'p':0.6, 'v':40}}"
   ]
  },
  {
   "cell_type": "code",
   "execution_count": 3,
   "metadata": {},
   "outputs": [
    {
     "name": "stdout",
     "output_type": "stream",
     "text": [
      "expected number of unskilled persons in a sample of 100 is 6.048000000000001\n"
     ]
    }
   ],
   "source": [
    "expected_unskilled = 1\n",
    "for key in skills:\n",
    "    expected_unskilled *= (1-skills[key]['p'])\n",
    "print(\"expected number of unskilled persons in a sample of 100 is\", 100*expected_unskilled)"
   ]
  },
  {
   "cell_type": "markdown",
   "metadata": {},
   "source": [
    "### Simulating network"
   ]
  },
  {
   "cell_type": "markdown",
   "metadata": {},
   "source": [
    "Note: money is in $ 1000"
   ]
  },
  {
   "cell_type": "code",
   "execution_count": 343,
   "metadata": {},
   "outputs": [],
   "source": [
    "def initial_wealth_distribution():\n",
    "    return max(0,np.random.randn()*10+10)\n",
    "def initial_payroll():\n",
    "    #mean = $50,000/12 ≈ $4,150, sd = $20,000/12 ≈ $1,650\n",
    "    return min(max(0,np.random.randn()*1.65+4.15), 17)\n",
    "def initial_capital():\n",
    "    return max(0,np.random.randn()*165+415)\n",
    "cost_of_living = 0.85"
   ]
  },
  {
   "cell_type": "code",
   "execution_count": 344,
   "metadata": {},
   "outputs": [],
   "source": [
    "def initiate(num_people, num_companies):\n",
    "    G = nx.Graph()\n",
    "    n = num_people + num_companies\n",
    "    G.add_nodes_from(np.arange(0,n))\n",
    "    people_index = np.arange(0,num_people)\n",
    "    company_index = np.arange(num_people,n)\n",
    "    P = [{\"money\": initial_wealth_distribution(), \n",
    "          \"skills\":[skill for skill in skills \n",
    "                    if np.random.random() < skills[skill]['p']],\n",
    "          \"jobs\": [],\n",
    "          \"salary\": 0,\n",
    "          \"job_offers\":{}} for i in range(num_people)]\n",
    "    C = [{\"utility\": initial_capital(), \"payroll\": initial_payroll(), \"employees\":[], \"applications\":[]} \n",
    "         for i in range(num_companies)]\n",
    "    return G, P, C, people_index, company_index"
   ]
  },
  {
   "cell_type": "code",
   "execution_count": 345,
   "metadata": {},
   "outputs": [],
   "source": [
    "def marginal_contribution_of_employee(c, v):\n",
    "    return np.sqrt((C[c][\"utility\"])**2+v) - C[c][\"utility\"]"
   ]
  },
  {
   "cell_type": "code",
   "execution_count": 407,
   "metadata": {},
   "outputs": [],
   "source": [
    "def hire(c, v):\n",
    "    #print(marginal_contribution_of_employee(c, v), c)\n",
    "    if marginal_contribution_of_employee(c, v) > 0.25: #task: decide the criteria\n",
    "        return 1\n",
    "    return 0"
   ]
  },
  {
   "cell_type": "code",
   "execution_count": 408,
   "metadata": {},
   "outputs": [],
   "source": [
    "def leisure_vs_consumption():\n",
    "    leisure = np.random.random()\n",
    "    consumption = 1 - leisure\n",
    "    return leisure, consumption"
   ]
  },
  {
   "cell_type": "code",
   "execution_count": 460,
   "metadata": {},
   "outputs": [],
   "source": [
    "def evolve(G, P, C, people_index, company_index, tax_rate):\n",
    "    \n",
    "    values = np.zeros(num_people)\n",
    "    \n",
    "    for person in people_index:\n",
    "        values[person] = sum([skills[i]['v'] for i in P[person]['skills']])\n",
    "        leisure, consumption = leisure_vs_consumption()\n",
    "        money = P[person][\"money\"]\n",
    "        salary = P[person][\"salary\"]\n",
    "        \n",
    "        #the person looks for a job\n",
    "        if P[person]['jobs'] != [] or money + salary <= cost_of_living:\n",
    "            for company in company_index:\n",
    "                company_arg = company - num_people\n",
    "                #if the person needs a job to pay the costs of living, then he must apply for it\n",
    "                if money - cost_of_living <= 0 and tax_rate<1:\n",
    "                    C[company_arg]['applications'].append(person)\n",
    "                #person considers the tax rate while weighing tradeoffs\n",
    "                elif np.log(np.exp(money) + C[company_arg][\"payroll\"] * values[person]/100)*(1-tax_rate) > 0.1: #task: decide the criteria\n",
    "                    C[company_arg]['applications'].append(person)\n",
    "                    \n",
    "                #task: consider the decrease in incentive to work due to redistribution\n",
    "                    \n",
    "        elif money > cost_of_living:\n",
    "            if leisure > consumption:\n",
    "                for job in P[person]['jobs']:   \n",
    "                    edge = (job, person)\n",
    "                    G.remove_edge(*edge)\n",
    "                    \n",
    "                P[person]['jobs'] = []\n",
    "                P[person]['salary'] = 0\n",
    "        \n",
    "    #companies consider applicants\n",
    "    for company in company_index:\n",
    "        company_arg = company - num_people\n",
    "        for applicant in C[company_arg][\"applications\"]:\n",
    "            if hire(company_arg, values[applicant]):\n",
    "                P[applicant]['job_offers'][company] = C[company_arg][\"payroll\"] * values[applicant]/100 #salaries do not mention taxes\n",
    "        \n",
    "        #print(C[company_arg][\"applications\"])      \n",
    "        C[company_arg][\"applications\"] = []\n",
    "   \n",
    "    government_revenue = 0\n",
    "\n",
    "    #person accepts or rejects job offers\n",
    "    for person in people_index:\n",
    "        job_offers = P[person]['job_offers']\n",
    "        #print(job_offers)\n",
    "        best_offer  = 0\n",
    "        best_provider = None\n",
    "        \n",
    "        if job_offers != {}:\n",
    "            for offer in job_offers:\n",
    "                if job_offers[offer] > best_offer:\n",
    "                    best_offer = job_offers[offer]\n",
    "                    best_provider = offer\n",
    "            \n",
    "            #we assume if a person already has a job he has to drop it for accepting a new job\n",
    "            for job in P[person]['jobs']:\n",
    "                edge = (job, person)\n",
    "                G.remove_edge(*edge)\n",
    "            \n",
    "            P[person]['jobs'] = [best_provider]\n",
    "            P[person]['salary'] = best_offer\n",
    "        \n",
    "            edge = (best_provider, person)\n",
    "            G.add_edge(*edge)\n",
    "        \n",
    "            P[person]['job_offers'] = {}\n",
    "        \n",
    "        P[person]['money'] += P[person]['salary']*(1-tax_rate)\n",
    "        #task: subtract money from companies after incorporating profit mechanism\n",
    "        \n",
    "        government_revenue += P[person]['salary']*tax_rate\n",
    "        \n",
    "        #subtract cost of living\n",
    "        P[person][\"money\"] -= cost_of_living\n",
    "        \n",
    "    for person in people_index:\n",
    "        P[person]['money'] += government_revenue/num_people\n",
    "    \n",
    "    return G"
   ]
  },
  {
   "cell_type": "code",
   "execution_count": 522,
   "metadata": {},
   "outputs": [],
   "source": [
    "num_people = 1000\n",
    "num_companies = 100\n",
    "\n",
    "G, P, C, people_index, company_index = initiate(num_people, num_companies)"
   ]
  },
  {
   "cell_type": "code",
   "execution_count": 523,
   "metadata": {},
   "outputs": [
    {
     "name": "stderr",
     "output_type": "stream",
     "text": [
      "/Library/Frameworks/Python.framework/Versions/3.6/lib/python3.6/site-packages/ipykernel_launcher.py:19: RuntimeWarning:\n",
      "\n",
      "overflow encountered in exp\n",
      "\n"
     ]
    }
   ],
   "source": [
    "for i in range(100):\n",
    "    G = evolve(G, P, C, people_index, company_index, tax_rate=0.2)"
   ]
  },
  {
   "cell_type": "code",
   "execution_count": 524,
   "metadata": {},
   "outputs": [],
   "source": [
    "#print(\"Nodes of graph: \")\n",
    "#print(G.nodes())\n",
    "#print(\"Edges of graph: \")\n",
    "#print(G.edges())"
   ]
  },
  {
   "cell_type": "code",
   "execution_count": 525,
   "metadata": {},
   "outputs": [
    {
     "data": {
      "image/png": "[encoded data removed]",
      "text/plain": [
       "<Figure size 432x288 with 1 Axes>"
      ]
     },
     "metadata": {},
     "output_type": "display_data"
    }
   ],
   "source": [
    "nx.draw(G)\n",
    "plt.show()"
   ]
  },
  {
   "cell_type": "code",
   "execution_count": 526,
   "metadata": {},
   "outputs": [],
   "source": [
    "#P"
   ]
  },
  {
   "cell_type": "code",
   "execution_count": 527,
   "metadata": {},
   "outputs": [],
   "source": [
    "wealth = [P[i]['money'] for i in range(len(P))]"
   ]
  },
  {
   "cell_type": "code",
   "execution_count": 536,
   "metadata": {},
   "outputs": [],
   "source": [
    "def distribute(values):\n",
    "    k = 1000\n",
    "    values = np.array(values)\n",
    "    max_value = max(values)\n",
    "    min_value = min(values)\n",
    "    bin_size = (max_value - min_value)/k\n",
    "    distribution = np.zeros(k+1)\n",
    "    for value in values:\n",
    "        distribution[int(value/bin_size)] += 1\n",
    "    return distribution"
   ]
  },
  {
   "cell_type": "code",
   "execution_count": 537,
   "metadata": {},
   "outputs": [
    {
     "data": {
      "text/plain": [
       "array([126., 140., 107., ...,   1.,   0.,   9.])"
      ]
     },
     "execution_count": 537,
     "metadata": {},
     "output_type": "execute_result"
    }
   ],
   "source": [
    "distribute(wealth)"
   ]
  },
  {
   "cell_type": "code",
   "execution_count": 546,
   "metadata": {},
   "outputs": [
    {
     "data": {
      "image/png": "[encoded data removed]",
      "text/plain": [
       "<Figure size 432x288 with 1 Axes>"
      ]
     },
     "metadata": {
      "needs_background": "light"
     },
     "output_type": "display_data"
    }
   ],
   "source": [
    "plt.hist(distribute(wealth)[:20])\n",
    "plt.savefig(\"tax=0.2.jpg\")\n",
    "plt.show()"
   ]
  },
  {
   "cell_type": "code",
   "execution_count": null,
   "metadata": {},
   "outputs": [],
   "source": []
  }
 ],
 "metadata": {
  "kernelspec": {
   "display_name": "Python 3",
   "language": "python",
   "name": "python3"
  },
  "language_info": {
   "codemirror_mode": {
    "name": "ipython",
    "version": 3
   },
   "file_extension": ".py",
   "mimetype": "text/x-python",
   "name": "python",
   "nbconvert_exporter": "python",
   "pygments_lexer": "ipython3",
   "version": "3.6.3"
  }
 },
 "nbformat": 4,
 "nbformat_minor": 2
}
